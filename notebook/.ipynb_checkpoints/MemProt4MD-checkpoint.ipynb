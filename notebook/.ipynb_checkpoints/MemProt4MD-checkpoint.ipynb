{
 "cells": [
  {
   "cell_type": "markdown",
   "id": "b599c8c5-4e0f-4289-8c44-003379175a56",
   "metadata": {},
   "source": [
    "<div style=\"font-family: 'Georgia';\">\n",
    "\n",
    "## MemProt4MD\n",
    "\n",
    "This tool is designed to generate the input structures for perform equilibrium MD simulations of proteins embedded in lipid bilayers. User is expected to have fundamental knowledge about proteins, lipid membranes, and experience with python and bash scripting. This tool integrates two tools commonly used for generating Protein-Lipid membrane complexes: PPM3 and Packmol. Users can either orient the protein with respect to a dummy lipid membrane using this tool or download the pre-oriented protein from PPM 3.0 web server. The tool includes the following:\n",
    "\n",
    "1. Initial input protein preparation using PROPKA+PDB2PQR  \n",
    "2. Generating the correct orientation of proteins within lipid membranes using PPM local version  \n",
    "3. Insertion of proteins into lipid membranes of choice using PACKMOL-MEMGEN  \n",
    "4. Protein-membrane complex visualization   \n",
    "\n",
    "</div>"
   ]
  },
  {
   "cell_type": "markdown",
   "id": "1e85c377-e309-4e33-82d5-2d63583ad226",
   "metadata": {},
   "source": [
    "<div style=\"font-family: 'Georgia';\">\n",
    "\n",
    "### 1. Initial input protein preparation using PROPKA+PDB2PQR\n",
    "\n",
    "The input protein structure may have problems with the protonation state of the residues, terminis and disulfide bond definition. These problems could originate by the way these structures were generated. Therefore, the input structures need to be cleaned well prior to any modeling. I highly recommend using preliminary cleaning of the pdb file using tools such as \"pdb-tools\" or Parmed or any other simple PDB editing tools. Structures from Rosetta may have residue-level energy values written at the end of the PDB files. These lines should be deleted during this stage to obtain reasonable structures without failure. \n",
    "\n",
    "Just like GROMACS workflow, the input PDB structure should be checked for proper protonation. If the protonation states of the residues are different from the original files, user can essentially see those suggestions from PROPKA and PDB2PQR. If the protonation state, recommended is different than the original information, pdbGMXprep.py will read the output from PROPKA and modify the input PDB files to reflect the correct protonation states suggested by PROPKA.\n",
    "\n",
    "GROMACS typically determines the salt bridge states during \"pdb2gmx\". However, the disulfide bonds in the proteins or between proteins, in AMBER MD package are determined during the initial phase itself.\n",
    "\n",
    "Correct naming of the chain IDs, residues, and termini are required to successfully run these steps. \n",
    "    \n",
    "</div>"
   ]
  },
  {
   "cell_type": "code",
   "execution_count": null,
   "id": "c2735d98-389d-49c9-b818-57d50cb5e462",
   "metadata": {},
   "outputs": [],
   "source": [
    "%%bash\n",
    "function pqr2pdb () {\n",
    "inputPDB=$1\n",
    "script_dir=$2\n",
    "destination=$3\n",
    "pdbfilename=$(basename \"$inputPDB\")  \n",
    "pdbname=${pdbfilename%.*}\n",
    "pdb2pqr30 --with-ph 7.4 --ff=AMBER --titration-state-method propka --ffout=AMBER \\ \n",
    "    --pdb-output ${destination}/${pdbname}_pka7.pdb ${inputPDB} ${destination}/${pdbname}_pka7.pqr\n",
    "propka3 ${inputPDB}\n",
    "mv ${pdbname}.pka ${destination}/${pdbname}.pka\n",
    "python ${script_dir}/pdbGMXprep.py --pkafile ${destination}/${pdbname}.pka --pH 7.4 \\\n",
    "    --mutatedPDB ${destination}/${pdbname}_protonated.pdb --pdb ${destination}/${pdbname}_pka7.pdb\n",
    "}"
   ]
  },
  {
   "cell_type": "markdown",
   "id": "abc915a4-5ecb-4705-bfbd-4dc7261bc6ee",
   "metadata": {},
   "source": [
    "<div style=\"font-family: 'Georgia';\">\n",
    "\n",
    "### 2. Generating the correct orientation of proteins within lipid membranes using PPM3 local version\n",
    "\n",
    "Typically, the orientation of transmembrane proteins in lipid membranes are determined from OPM database or by running it in PPM server. Howeve, they also provide a local version of this software and that has been added to this pipeline under \"PPM\" directory. The correct orientation of the protein with respect to a planar membrane is determined by embedding the protein into a DOPC bilayer. The details of the protocol and the collection of output results are provided in the link below. You can also find a detailed instruction from the orignal authors in a word document in PPM directory under the name \"ppm3_instructions.docx\".\n",
    "\n",
    "PPM3 requires gfortran. The format of the input file (*.inp) is given in \"example\" directory. The example bash script is given below. The executable and input files are all expected to be in the same working directory.\n",
    "    \n",
    "**module load gcc**\n",
    "\n",
    "**./immers<2membrane.inp>output_file**\n",
    "    \n",
    "</div>"
   ]
  },
  {
   "cell_type": "markdown",
   "id": "31309742-3f66-4de2-b05e-bc92f220fe6f",
   "metadata": {},
   "source": [
    "<div style=\"font-family: 'Georgia';\">\n",
    "\n",
    "The output PDB file contains the re-oriented protein structure along with dummy beads to represent the membrane-water interface (typically phosphorus atoms in the DOPC or Carbonyl group at the interface). These \"HETATM\" lines need to be removed before going into the next stage where the protein is inserted into a lipid membrane with composition of our choice. These lines can be removed using the \"sed\" command.\n",
    "    \n",
    "**sed '/HETATM\\|DUM/d' input.pdb > output.pdb**\n",
    "    \n",
    "</div>"
   ]
  },
  {
   "cell_type": "markdown",
   "id": "9af5db91-87d8-4f41-801b-47250ab4fa5e",
   "metadata": {},
   "source": [
    "<div style=\"font-family: 'Georgia';\">\n",
    "\n",
    "### 3. Insertion of proteins into lipid membrane using PACKMOL-MEMGEN\n",
    "\n",
    "PACKMOL-MEMGEN is pre-installed in AMBER module. When AMBER is loaded onto the terminal, user can use PACKMOL-MEMGEN to generate either membrane-only systems or proteins embeddged into the lipid membrane. The input arguments required for this stage can be found using the commands below. The orientation the protein with respect to lipid membrane is already determined using PPM3-server local version.\n",
    "    \n",
    "The descriptions of the command line arguments are provided below:\n",
    "    \n",
    "* \"--pdb pdbname_from_ppm3.pdb\": input transmembrane protein PDB\n",
    "* \"--lipids POPC\": build POPC membrane (Composition of the lipids can be modified)\n",
    "* \"--ratio 1\": POPC ratio of 1 (Different composition can be tried here)\n",
    "* \"--preoriented\": the PPM coordinates orientated along the z-axis.\n",
    "* \"--salt --salt_c Na+ --saltcon 0.15\": Add 0.15 M of NaCl salt to the water layer\n",
    "* \"--dist 10\": minimum maxmin value for x, y, z to box boundary\n",
    "* \"--dist_wat 15\": water layer thickness of 15 Angstrom\n",
    "* \"--notprotonate --nottrim\": No need to further process input protein PDB file\n",
    "    \n",
    "</div>"
   ]
  },
  {
   "cell_type": "markdown",
   "id": "79d5b17d-2708-4906-bbc4-969d0c4728ce",
   "metadata": {},
   "source": [
    "<div style=\"font-family: 'Georgia';\">\n",
    "\n",
    "**packmol-memgen --help**\n",
    "\n",
    "**packmol-memgen --pdb destination/pdbname_from_ppm3.pdb --lipids \n",
    "POPC --ratio 1 --preoriented --salt --salt_c Na+ --saltcon 0.15\n",
    "--dist 10 --dist_wat 15 --notprotonate --nottrim**\n",
    "    \n",
    "</div>"
   ]
  },
  {
   "cell_type": "code",
   "execution_count": 2,
   "id": "97f5cd36-c69e-470f-86cb-dd7bb383859d",
   "metadata": {},
   "outputs": [
    {
     "data": {
      "application/vnd.jupyter.widget-view+json": {
       "model_id": "99724c08c6da4104a36566ca28194014",
       "version_major": 2,
       "version_minor": 0
      },
      "text/plain": [
       "NGLWidget(layout=Layout(height='800px'))"
      ]
     },
     "metadata": {},
     "output_type": "display_data"
    }
   ],
   "source": [
    "import nglview as nv\n",
    "from nglview import show_structure_file\n",
    "\n",
    "# Path to your PDB file\n",
    "pdb_file_path = '../example/6vn7/bilayer_6vn7_chAB_protonated_ppm3.pdb'\n",
    "\n",
    "# Load the PDB file\n",
    "view = show_structure_file(pdb_file_path)\n",
    "\n",
    "# Clear default representations\n",
    "view.clear_representations()\n",
    "\n",
    "# Show lipid molecules as sticks\n",
    "view.add_representation(repr_type='line', selection='PA or PC or OL')\n",
    "\n",
    "# Show protein as cartoon\n",
    "view.add_representation(repr_type='cartoon', selection='protein')\n",
    "\n",
    "# Show water molecules as transparent surface with 0.75 transparency\n",
    "view.add_representation(repr_type='surface', selection='water', opacity=0.25)\n",
    "\n",
    "# Show Sodium ions as small spheres with a different color\n",
    "view.add_representation(repr_type='sphere', selection='NA', color='blue', radius=0.5)\n",
    "\n",
    "# Show Chlorine ions as small spheres with a different color\n",
    "view.add_representation(repr_type='sphere', selection='CL', color='green', radius=0.5)\n",
    "\n",
    "# Set the size of the NGLWidget output\n",
    "view.layout.height = '800px'  # Adjust the height as needed\n",
    "# view.layout.width = '80%'   # Optionally, adjust the width as needed\n",
    "\n",
    "# To set the camera to orthographic\n",
    "view.camera = 'orthographic'\n",
    "\n",
    "# Display the viewer\n",
    "view"
   ]
  },
  {
   "cell_type": "code",
   "execution_count": null,
   "id": "907ca508-7657-4b61-bd76-5a4e4911e563",
   "metadata": {},
   "outputs": [],
   "source": []
  }
 ],
 "metadata": {
  "kernelspec": {
   "display_name": "MemProtMD",
   "language": "python",
   "name": "memprotmd"
  },
  "language_info": {
   "codemirror_mode": {
    "name": "ipython",
    "version": 3
   },
   "file_extension": ".py",
   "mimetype": "text/x-python",
   "name": "python",
   "nbconvert_exporter": "python",
   "pygments_lexer": "ipython3",
   "version": "3.12.1"
  }
 },
 "nbformat": 4,
 "nbformat_minor": 5
}
